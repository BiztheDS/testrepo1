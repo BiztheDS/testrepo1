{
 "cells": [
  {
   "cell_type": "markdown",
   "id": "fcca8a1a-8ea2-4d4f-881e-5da11bf94b40",
   "metadata": {},
   "source": [
    "# Data Science Tools and Ecosystem"
   ]
  },
  {
   "cell_type": "markdown",
   "id": "af09efbf-ca77-4975-8067-abaf4a6ce049",
   "metadata": {},
   "source": [
    "In this notebook, Data Science Tools and Ecosystem are summarized."
   ]
  },
  {
   "cell_type": "markdown",
   "id": "b22b365f-65ad-482a-8265-fffae232fc7e",
   "metadata": {},
   "source": [
    "__Objectives:__ \n",
    "- Data Science Languages\n",
    "- Data Science Libraries\n",
    "- Data Science Tools\n",
    "- Simple Math using Jupyter Notebook"
   ]
  },
  {
   "cell_type": "markdown",
   "id": "958b7a3b-e72f-497a-ad33-4d8aa93d2fb9",
   "metadata": {},
   "source": [
    "Some of the popular languages that Data Scientists use are:\n",
    "1. Python\n",
    "2. Scala\n",
    "3. C++\n",
    "4. Javascript\n",
    "5. SQL"
   ]
  },
  {
   "cell_type": "markdown",
   "id": "88f586a3-50f3-4f0b-b804-58486704761c",
   "metadata": {},
   "source": [
    "Some of the commonly used libraries used by Data Scientists include:\n",
    "\n",
    "1. NumPy\n",
    "2. Pandas\n",
    "3. Matplotlib\n",
    "4. Plotly\n",
    "5. Scikit Learn"
   ]
  },
  {
   "cell_type": "markdown",
   "id": "5ad76b62-4e90-4905-836e-f788571435b7",
   "metadata": {},
   "source": [
    "| Data Science Tools |\n",
    "|-------------------|\n",
    "| Jupyter Notebook |\n",
    "| Visual Studio |\n",
    "| Google Colab |"
   ]
  },
  {
   "cell_type": "markdown",
   "id": "fa83e185-24f4-4caf-8c2d-3cb7103e5095",
   "metadata": {},
   "source": [
    "### Below are a few examples of evaluating arithmetic expressions in Python"
   ]
  },
{
     "execution_count": 36,
     "metadata": {},
     "output_type": "execute_result"
    }
   ],
   "source": [
    "# This is a simple arithmetic expression to multiply then add integers\n",
    "(3*4)+5"
   ]
  },
  {
   "cell_type": "code",
   "execution_count": 38,
   "id": "f501af2f-19f5-48d3-bea9-7e9087284f75",
   "metadata": {},
   "outputs": [
    {
     "data": {
      "text/plain": [
       "3.3333333333333335"
      ]
     },
     "execution_count": 38,
     "metadata": {},
     "output_type": "execute_result"
    }
   ],
   "source": [
    "# This will convert 200 minutes to hours by dividing by 60\n",
    "200/60"
   ]
  },
  {
   "cell_type": "markdown",
   "id": "4a6c45a3-50cb-4be0-8ad2-09fbb9ba776c",
   "metadata": {},
   "source": [
    "## Author\n",
    "Asia Bolling\n"
   ]
  },
  {
   "cell_type": "code",
   "execution_count": null,
   "id": "bc003314-fd97-4cf8-bd73-4d0209dbb81f",
   "metadata": {},
   "outputs": [],
   "source": []
  }
 ],
 "metadata": {
  "kernelspec": {
   "display_name": "Python [conda env:AB_env]",
   "language": "python",
   "name": "conda-env-AB_env-py"
  },
  "language_info": {
   "codemirror_mode": {
    "name": "ipython",
    "version": 3
   },
   "file_extension": ".py",
   "mimetype": "text/x-python",
   "name": "python",
   "nbconvert_exporter": "python",
   "pygments_lexer": "ipython3",
   "version": "3.12.8"
  }
 },
 "nbformat": 4,
 "nbformat_minor": 5
}
